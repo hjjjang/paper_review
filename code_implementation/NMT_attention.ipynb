{
  "nbformat": 4,
  "nbformat_minor": 5,
  "metadata": {
    "kernelspec": {
      "display_name": "Python 3",
      "language": "python",
      "name": "python3"
    },
    "language_info": {
      "codemirror_mode": {
        "name": "ipython",
        "version": 3
      },
      "file_extension": ".py",
      "mimetype": "text/x-python",
      "name": "python",
      "nbconvert_exporter": "python",
      "pygments_lexer": "ipython3",
      "version": "3.7.7"
    },
    "toc": {
      "base_numbering": 1,
      "nav_menu": {},
      "number_sections": true,
      "sideBar": true,
      "skip_h1_title": false,
      "title_cell": "Table of Contents",
      "title_sidebar": "Contents",
      "toc_cell": false,
      "toc_position": {
        "height": "calc(100% - 180px)",
        "left": "10px",
        "top": "150px",
        "width": "197.309px"
      },
      "toc_section_display": true,
      "toc_window_display": false
    },
    "varInspector": {
      "cols": {
        "lenName": 16,
        "lenType": 16,
        "lenVar": 40
      },
      "kernels_config": {
        "python": {
          "delete_cmd_postfix": "",
          "delete_cmd_prefix": "del ",
          "library": "var_list.py",
          "varRefreshCmd": "print(var_dic_list())"
        },
        "r": {
          "delete_cmd_postfix": ") ",
          "delete_cmd_prefix": "rm(",
          "library": "var_list.r",
          "varRefreshCmd": "cat(var_dic_list()) "
        }
      },
      "types_to_exclude": [
        "module",
        "function",
        "builtin_function_or_method",
        "instance",
        "_Feature"
      ],
      "window_display": false
    },
    "colab": {
      "name": "NMT_attention.ipynb",
      "provenance": [],
      "collapsed_sections": []
    },
    "accelerator": "GPU"
  },
  "cells": [
    {
      "cell_type": "markdown",
      "metadata": {
        "id": "f07a467b"
      },
      "source": [
        "# 데이터 전처리"
      ],
      "id": "f07a467b"
    },
    {
      "cell_type": "markdown",
      "metadata": {
        "id": "70e149ce"
      },
      "source": [
        "aihub에서 한국어-영어 번역(병렬) 말뭉치: 영어<->한국어. 카테고리별로해서 총 160만 문장인데 한 카테고리만 뽑기. https://aihub.or.kr/aidata/87\n"
      ],
      "id": "70e149ce"
    },
    {
      "cell_type": "markdown",
      "metadata": {
        "id": "fa0b41a1"
      },
      "source": [
        "구어체로 20만건으로 진행 (문장별로 잘 나눠져 있음. 길이가 길지 않음. 고유명사 별로 없음)"
      ],
      "id": "fa0b41a1"
    },
    {
      "cell_type": "code",
      "metadata": {
        "colab": {
          "base_uri": "https://localhost:8080/"
        },
        "id": "e2178fc7",
        "outputId": "bc0b8e35-a9b8-49f7-c7cb-a00826b71274"
      },
      "source": [
        "import torch\n",
        "import torch.nn as nn\n",
        "import torch.optim as optim\n",
        "import torch.nn.functional as F\n",
        "#from torchtext.data import Field, TabularDataset, BucketIterator\n",
        "from torchtext.legacy.data import Field, BucketIterator, TabularDataset\n",
        "!pip install konlpy\n",
        "from konlpy.tag import Okt, Mecab\n",
        "import nltk\n",
        "nltk.download('punkt')  \n",
        "from nltk.tokenize import word_tokenize\n",
        "from sklearn.model_selection import train_test_split\n",
        "import pandas as pd\n",
        "import numpy as np\n",
        "import random\n",
        "import time\n",
        "from tqdm import tqdm\n",
        "import math"
      ],
      "id": "e2178fc7",
      "execution_count": null,
      "outputs": [
        {
          "output_type": "stream",
          "text": [
            "Requirement already satisfied: konlpy in /usr/local/lib/python3.7/dist-packages (0.5.2)\n",
            "Requirement already satisfied: numpy>=1.6 in /usr/local/lib/python3.7/dist-packages (from konlpy) (1.19.5)\n",
            "Requirement already satisfied: tweepy>=3.7.0 in /usr/local/lib/python3.7/dist-packages (from konlpy) (3.10.0)\n",
            "Requirement already satisfied: lxml>=4.1.0 in /usr/local/lib/python3.7/dist-packages (from konlpy) (4.2.6)\n",
            "Requirement already satisfied: colorama in /usr/local/lib/python3.7/dist-packages (from konlpy) (0.4.4)\n",
            "Requirement already satisfied: JPype1>=0.7.0 in /usr/local/lib/python3.7/dist-packages (from konlpy) (1.3.0)\n",
            "Requirement already satisfied: beautifulsoup4==4.6.0 in /usr/local/lib/python3.7/dist-packages (from konlpy) (4.6.0)\n",
            "Requirement already satisfied: requests-oauthlib>=0.7.0 in /usr/local/lib/python3.7/dist-packages (from tweepy>=3.7.0->konlpy) (1.3.0)\n",
            "Requirement already satisfied: six>=1.10.0 in /usr/local/lib/python3.7/dist-packages (from tweepy>=3.7.0->konlpy) (1.15.0)\n",
            "Requirement already satisfied: requests[socks]>=2.11.1 in /usr/local/lib/python3.7/dist-packages (from tweepy>=3.7.0->konlpy) (2.23.0)\n",
            "Requirement already satisfied: typing-extensions; python_version < \"3.8\" in /usr/local/lib/python3.7/dist-packages (from JPype1>=0.7.0->konlpy) (3.7.4.3)\n",
            "Requirement already satisfied: oauthlib>=3.0.0 in /usr/local/lib/python3.7/dist-packages (from requests-oauthlib>=0.7.0->tweepy>=3.7.0->konlpy) (3.1.1)\n",
            "Requirement already satisfied: chardet<4,>=3.0.2 in /usr/local/lib/python3.7/dist-packages (from requests[socks]>=2.11.1->tweepy>=3.7.0->konlpy) (3.0.4)\n",
            "Requirement already satisfied: idna<3,>=2.5 in /usr/local/lib/python3.7/dist-packages (from requests[socks]>=2.11.1->tweepy>=3.7.0->konlpy) (2.10)\n",
            "Requirement already satisfied: certifi>=2017.4.17 in /usr/local/lib/python3.7/dist-packages (from requests[socks]>=2.11.1->tweepy>=3.7.0->konlpy) (2021.5.30)\n",
            "Requirement already satisfied: urllib3!=1.25.0,!=1.25.1,<1.26,>=1.21.1 in /usr/local/lib/python3.7/dist-packages (from requests[socks]>=2.11.1->tweepy>=3.7.0->konlpy) (1.24.3)\n",
            "Requirement already satisfied: PySocks!=1.5.7,>=1.5.6; extra == \"socks\" in /usr/local/lib/python3.7/dist-packages (from requests[socks]>=2.11.1->tweepy>=3.7.0->konlpy) (1.7.1)\n",
            "[nltk_data] Downloading package punkt to /root/nltk_data...\n",
            "[nltk_data]   Package punkt is already up-to-date!\n"
          ],
          "name": "stdout"
        }
      ]
    },
    {
      "cell_type": "code",
      "metadata": {
        "id": "8548724b"
      },
      "source": [
        "SEED = 2021\n",
        "\n",
        "random.seed(SEED)\n",
        "np.random.seed(SEED)\n",
        "torch.manual_seed(SEED)\n",
        "torch.cuda.manual_seed(SEED)\n",
        "torch.backends.cudnn.deterministic = True"
      ],
      "id": "8548724b",
      "execution_count": null,
      "outputs": []
    },
    {
      "cell_type": "code",
      "metadata": {
        "scrolled": true,
        "id": "3cce5a47"
      },
      "source": [
        "data = pd.read_excel('1_구어체(1).xlsx')\n",
        "print(data.shape)"
      ],
      "id": "3cce5a47",
      "execution_count": null,
      "outputs": []
    },
    {
      "cell_type": "markdown",
      "metadata": {
        "id": "9295a615"
      },
      "source": [
        "한 > 영 번역"
      ],
      "id": "9295a615"
    },
    {
      "cell_type": "code",
      "metadata": {
        "scrolled": true,
        "id": "6155a2c2",
        "outputId": "5b7e8086-87fa-498f-e116-0a5d05674167"
      },
      "source": [
        "data_ = data.iloc[:,1:].rename(columns={'원문':'SRC','번역문':'TRG'})\n",
        "train, test = train_test_split(data_, test_size=0.1, random_state=SEED)\n",
        "train, val = train_test_split(train, test_size=0.1, random_state=SEED)\n",
        "\n",
        "print(train.shape[0], val.shape[0], test.shape[0])"
      ],
      "id": "6155a2c2",
      "execution_count": null,
      "outputs": [
        {
          "output_type": "stream",
          "text": [
            "162000 18000 20000\n"
          ],
          "name": "stdout"
        }
      ]
    },
    {
      "cell_type": "code",
      "metadata": {
        "id": "367a52ac"
      },
      "source": [
        "train.to_csv('train.csv', index=False)\n",
        "val.to_csv('val.csv', index=False)\n",
        "test.to_csv('test.csv', index=False)"
      ],
      "id": "367a52ac",
      "execution_count": null,
      "outputs": []
    },
    {
      "cell_type": "code",
      "metadata": {
        "id": "-wJB16QG29LT"
      },
      "source": [
        "from google.colab import drive\n",
        "drive.mount('/content/drive')"
      ],
      "id": "-wJB16QG29LT",
      "execution_count": null,
      "outputs": []
    },
    {
      "cell_type": "code",
      "metadata": {
        "id": "bf29ef66"
      },
      "source": [
        "okt = Okt()\n",
        "\n",
        "def tokenize_ko(text):\n",
        "    return [i for i in okt.morphs(text)][::-1]\n",
        "\n",
        "def tokenize_en(text):\n",
        "    return [i for i in word_tokenize(text)]\n",
        "\n",
        "##한국어\n",
        "SRC = Field(tokenize=tokenize_ko,\n",
        "               init_token = '<sos>',\n",
        "               eos_token='<eos>')\n",
        "\n",
        "##영어\n",
        "TRG = Field(tokenize=tokenize_en,\n",
        "               lower=True,\n",
        "               init_token = '<sos>',\n",
        "               eos_token='<eos>')"
      ],
      "id": "bf29ef66",
      "execution_count": null,
      "outputs": []
    },
    {
      "cell_type": "code",
      "metadata": {
        "id": "1fc7362b"
      },
      "source": [
        "data_fields = [('SRC', SRC), ('TRG', TRG)]"
      ],
      "id": "1fc7362b",
      "execution_count": null,
      "outputs": []
    },
    {
      "cell_type": "code",
      "metadata": {
        "id": "63ff4a03"
      },
      "source": [
        "train, val, test = TabularDataset.splits(path='/content/drive/MyDrive/', train='train.csv', validation='val.csv', test='test.csv',  \n",
        "                                         format='csv', skip_header=True, fields=data_fields)"
      ],
      "id": "63ff4a03",
      "execution_count": null,
      "outputs": []
    },
    {
      "cell_type": "code",
      "metadata": {
        "id": "895a047c"
      },
      "source": [
        "SRC.build_vocab(train, min_freq=2)\n",
        "TRG.build_vocab(train, min_freq=2)"
      ],
      "id": "895a047c",
      "execution_count": null,
      "outputs": []
    },
    {
      "cell_type": "code",
      "metadata": {
        "scrolled": true,
        "colab": {
          "base_uri": "https://localhost:8080/"
        },
        "id": "268e1062",
        "outputId": "86084e15-c213-4ae6-9e20-187c68723d1d"
      },
      "source": [
        "print(len(SRC.vocab), len(TRG.vocab))\n",
        "print(list(SRC.vocab.stoi.keys())[:20])"
      ],
      "id": "268e1062",
      "execution_count": null,
      "outputs": [
        {
          "output_type": "stream",
          "text": [
            "34012 19819\n",
            "['<unk>', '<pad>', '<sos>', '<eos>', '.', '을', '이', '는', '에', '가', '를', '의', '은', '나', '?', '것', ',', '당신', '그', '들']\n"
          ],
          "name": "stdout"
        }
      ]
    },
    {
      "cell_type": "code",
      "metadata": {
        "scrolled": true,
        "colab": {
          "base_uri": "https://localhost:8080/"
        },
        "id": "bef130b0",
        "outputId": "8bc7e526-d4f0-4940-fc6b-666b9a1d2ba5"
      },
      "source": [
        "device = torch.device('cuda' if torch.cuda.is_available() else 'cpu')\n",
        "print(device)"
      ],
      "id": "bef130b0",
      "execution_count": null,
      "outputs": [
        {
          "output_type": "stream",
          "text": [
            "cuda\n"
          ],
          "name": "stdout"
        }
      ]
    },
    {
      "cell_type": "code",
      "metadata": {
        "id": "7c8b0515"
      },
      "source": [
        "BATCH_SIZE = 80\n",
        "train_iterator, valid_iterator, test_iterator = BucketIterator.splits((train, val, test), \n",
        "                                                                      sort=False,                                                                 \n",
        "                                                                       batch_size = BATCH_SIZE,\n",
        "                                                                       device = device\n",
        "                                                                       )"
      ],
      "id": "7c8b0515",
      "execution_count": null,
      "outputs": []
    },
    {
      "cell_type": "code",
      "metadata": {
        "scrolled": false,
        "colab": {
          "base_uri": "https://localhost:8080/"
        },
        "id": "33c8f204",
        "outputId": "5a4f7ca0-ae58-4d2e-90c8-eb34121e7694"
      },
      "source": [
        "## batch별로 padding됨\n",
        "batch = next(iter(train_iterator))\n",
        "src = batch.SRC\n",
        "print(src.shape)\n",
        "src = src.transpose(1,0)\n",
        "src[:3]"
      ],
      "id": "33c8f204",
      "execution_count": null,
      "outputs": [
        {
          "output_type": "stream",
          "text": [
            "torch.Size([28, 80])\n"
          ],
          "name": "stdout"
        },
        {
          "output_type": "execute_result",
          "data": {
            "text/plain": [
              "tensor([[    2,     4,    26,    55,   612,    21,    27,     5,    15,   135,\n",
              "           168,    30,    15,    32,    10,   606,   214,    15,  2475,    22,\n",
              "           350,    71,     7,    25,   320,     3,     1,     1],\n",
              "        [    2,     4,   559,    89,    22,  1833,     7,   315, 13003,     3,\n",
              "             1,     1,     1,     1,     1,     1,     1,     1,     1,     1,\n",
              "             1,     1,     1,     1,     1,     1,     1,     1],\n",
              "        [    2,     4,  2989,     6,    40,    32,     5,    53,    46,   863,\n",
              "          3542, 11143,   551,  2503,     6,    19,    40,     7,    20,   156,\n",
              "             3,     1,     1,     1,     1,     1,     1,     1]],\n",
              "       device='cuda:0')"
            ]
          },
          "metadata": {
            "tags": []
          },
          "execution_count": 332
        }
      ]
    },
    {
      "cell_type": "markdown",
      "metadata": {
        "id": "2776110b"
      },
      "source": [
        "- 보충: https://simonjisu.github.io/nlp/2018/07/05/packedsequence.html"
      ],
      "id": "2776110b"
    },
    {
      "cell_type": "markdown",
      "metadata": {
        "id": "4622b2e4"
      },
      "source": [
        "# 모델링"
      ],
      "id": "4622b2e4"
    },
    {
      "cell_type": "markdown",
      "metadata": {
        "id": "a3eb0ece"
      },
      "source": [
        "코드 참고: https://colab.research.google.com/github/bentrevett/pytorch-seq2seq/blob/master/3%20-%20Neural%20Machine%20Translation%20by%20Jointly%20Learning%20to%20Align%20and%20Translate.ipynb#scrollTo=g64I1EDu6jlz"
      ],
      "id": "a3eb0ece"
    },
    {
      "cell_type": "markdown",
      "metadata": {
        "id": "968c4d66"
      },
      "source": [
        "## Encoder"
      ],
      "id": "968c4d66"
    },
    {
      "cell_type": "markdown",
      "metadata": {
        "id": "16abf7e9"
      },
      "source": [
        "**Bidirectional-RNN**\n",
        "1. 각 rnn block\n",
        "    - 입력: forward, backward RNN에 대해 각각 입력받음\n",
        "        - e(x(t))\n",
        "            - x(t): 현재 source token\n",
        "            - e(x(t)): embedding된 x(t)\n",
        "        - h(t-1): 이전 encoder rnn block 의 hidden state\n",
        "\n",
        "    - 출력\n",
        "        - h(t): 현재 encoder rnn block의 hidden state\n",
        "\n",
        "\n",
        "2. 전체 encder\n",
        "    - 출력: $z=\\tanh(g(h_T^\\rightarrow, h_T^\\leftarrow)) = \\tanh(g(z^\\rightarrow, z^\\leftarrow)) = s_0$"
      ],
      "id": "16abf7e9"
    },
    {
      "cell_type": "code",
      "metadata": {
        "id": "2f466cd1"
      },
      "source": [
        "class Encoder(nn.Module):\n",
        "    def __init__(self, input_dim, emb_dim, enc_hid_dim, dec_hid_dim, dropout):\n",
        "        super().__init__()\n",
        "        \n",
        "        self.embedding = nn.Embedding(input_dim, emb_dim) #input_dim: source vocab 크기\n",
        "        self.rnn = nn.RNN(emb_dim, enc_hid_dim, bidirectional=True)\n",
        "        self.fc = nn.Linear(enc_hid_dim*2, dec_hid_dim) # forward + backward rnn 결과를 입력으로 받아, dec_hidden state 초기 input을 출력\n",
        "        self.dropout = nn.Dropout(dropout)\n",
        "        \n",
        "    def forward(self, src): #src.shape: [src_len, batch_size]\n",
        "        \n",
        "        ## 1.encoder input token embedding ##\n",
        "        embedded = self.embedding(src)\n",
        "        embedded = self.dropout(embedded) #embeeded.shape: [src_len, batch_size, emb_dim]\n",
        "        \n",
        "        ## 2. rnn layer에 넣고 모든 block에 대해 계산 ##\n",
        "        outputs, hidden = self.rnn(embedded)\n",
        "        # outputs: 모든 timestep의 hidden states 저장됨. 이전 seq2seq 모든 decoder step에서 동일한 context vector를 사용했었기 때문에 필요없었음.\n",
        "        # outputs.shape: [scr_len, batch_size, hid_dim*2]\n",
        "        # hidden: 마지막 hidden state. decoder의 초기 hidden state로 적용됨 (h(0))\n",
        "        # hidden.shape: [2, batch_size, hid_dim]\n",
        "        \n",
        "        ## 3. 원하는 output him으로 변형 ##\n",
        "        hidden = torch.tanh(self.fc( \n",
        "            torch.cat((hidden[-2,:,:], # forward RNN에서 마지막 timestep (<eos>)을 지난 후의 hidden state\n",
        "                       hidden[-1,:,:]), # backward RNN에서 마지막 timestpe (<sos>)을 지난 후의 hidden state\n",
        "                      dim=1) # 하나의 output이 나오도록 (decoder에서는 하나의 입력만 받음)\n",
        "        )) \n",
        "        #hidden.shape: [batch_size, dec_hid_dim]\n",
        "        \n",
        "        return outputs, hidden"
      ],
      "id": "2f466cd1",
      "execution_count": null,
      "outputs": []
    },
    {
      "cell_type": "markdown",
      "metadata": {
        "id": "0bb46454"
      },
      "source": [
        "## Attention"
      ],
      "id": "0bb46454"
    },
    {
      "cell_type": "markdown",
      "metadata": {
        "id": "a9c09717"
      },
      "source": [
        "![image.png](attachment:image.png)\n",
        "\n",
        "1. 각 decoder block (token)에 대한 attention vector\n",
        "    - 입력\n",
        "        - s(t-1): 이전 decoder hidden state\n",
        "        - H: encoder의 모든 forward & backward hidden states \n",
        "    - 출력\n",
        "        - a(t): 하나의 attention vector\n",
        "            - shape: [입력 token 수]\n",
        "            - t번째 output인 s(t)를 계산할 때 전체 입력의 정보가 모두 있는 a(t)가 필요함\n",
        "            - 각 value는 0~1. sum(a(t))=1\n"
      ],
      "id": "a9c09717"
    },
    {
      "cell_type": "code",
      "metadata": {
        "id": "eca17ae4"
      },
      "source": [
        "class Attention(nn.Module):\n",
        "    def __init__(self, enc_hid_dim, dec_hid_dim):\n",
        "        super().__init__()\n",
        "        \n",
        "        self.attn = nn.Linear((enc_hid_dim * 2) + dec_hid_dim, dec_hid_dim) # encoder forward + encoder backward + decoder input embedding \n",
        "        self.v = nn.Linear(dec_hid_dim, 1, bias = False)\n",
        "        \n",
        "    def forward(self, hidden, encoder_outputs):\n",
        "        # hidden: 이전 timestep decoder의 hidden state\n",
        "        # encoder_outputs: encoder의 모든 timestep의 hidden states \n",
        "\n",
        "        batch_size = encoder_outputs.shape[1]\n",
        "        src_len = encoder_outputs.shape[0]\n",
        "        \n",
        "        # hidden.shape: [batch_size, dec_hid_dim]\n",
        "        hidden = hidden.unsqueeze(1) # 1번째 차원 추가\n",
        "        # hidden.shape: [batch_size, 1, dec_hid_dim]\n",
        "        hidden = hidden.repeat(1, src_len, 1) # token 길이만큼 반복\n",
        "        # hidden.shape: [batch_size, src_len, dec_hid_dim]\n",
        "        \n",
        "        # encoder_outputs.shape: [scr_len, batch_size, hid_dim*2]\n",
        "        encoder_outputs = encoder_outputs.permute(1, 0, 2) # reshape. 순서 바꾸기\n",
        "        # encoder_outputs.shape: [batch_size, scr_len, hid_dim*2]\n",
        "        \n",
        "        energy = torch.tanh(self.attn(torch.cat((hidden, encoder_outputs), dim = 2))) \n",
        "        # energy: encoder 각 timestep의 hidden state가 decoder의 이전 timestep과 얼마나 잘 매칭되는지\n",
        "        # energy.shape: [batch_size, src_len, dec_hid_dim]\n",
        "        \n",
        "        \n",
        "        attention = self.v(energy) #attention.shape: [batch_size, src_len, 1]\n",
        "        attention = attention.squeeze(2) #attention.shape: [batch size, src_len]\n",
        "        \n",
        "        return F.softmax(attention, dim=1) # sum=1이 되도록 바꾸기"
      ],
      "id": "eca17ae4",
      "execution_count": null,
      "outputs": []
    },
    {
      "cell_type": "markdown",
      "metadata": {
        "id": "59e12db1"
      },
      "source": [
        "## Decoder"
      ],
      "id": "59e12db1"
    },
    {
      "cell_type": "markdown",
      "metadata": {
        "id": "14e5265b"
      },
      "source": [
        "![image.png](attachment:image.png)\n",
        "1. decoder rnn 입력\n",
        "    - w(t)\n",
        "        - 모든 입력 token들에 대한 attention을 적용한 context vector\n",
        "        - w(t) = a(t) * H\n",
        "    - d(y(t))\n",
        "        - y(t): 현재 target token\n",
        "        - d(y(t)): y(t)를 embedding한 결과\n",
        "    - s(t-1): 이전 decoder rnn block 의 hidden state\n",
        "    \n",
        "    \n",
        "2. decoder rnn 출력\n",
        "    - s(t): 현재 deocder rnn block 의 hidden state\n",
        "\n",
        "\n",
        "3. linear 입력\n",
        "    - d(yt(t))\n",
        "    - w(t)\n",
        "    - s(t)\n",
        "    \n",
        "    \n",
        "4. linear 출력\n",
        "    - y(t+1): 예측한 target token"
      ],
      "id": "14e5265b"
    },
    {
      "cell_type": "code",
      "metadata": {
        "id": "0f455e5f"
      },
      "source": [
        "class Decoder(nn.Module):\n",
        "    def __init__(self, output_dim, emb_dim, enc_hid_dim, dec_hid_dim, dropout, attention):\n",
        "        super().__init__()\n",
        "        \n",
        "        self.output_dim = output_dim\n",
        "        self.attention = attention\n",
        "        \n",
        "        self.embedding = nn.Embedding(output_dim, emb_dim)\n",
        "        self.rnn = nn.RNN((enc_hid_dim*2)+emb_dim, dec_hid_dim)\n",
        "        self.fc = nn.Linear((enc_hid_dim*2)+dec_hid_dim+emb_dim, output_dim)\n",
        "        self.dropout = nn.Dropout(dropout)\n",
        "        \n",
        "    def forward(self, input, hidden, encoder_outputs):\n",
        "        # input: 각 timestep의 target token\n",
        "        # hidden: 이전 timestep decoder block의 hidden state\n",
        "        # encoder_outputs: encoder의 모든 timestep의 hidden states \n",
        "        \n",
        "        \n",
        "        ## 1.decoder input token embedding ##\n",
        "        # input.shape: [batch_size]\n",
        "        input = input.unsqueeze(0)\n",
        "        # input.shape: [1, batch_size]\n",
        "        \n",
        "        embedded = self.embedding(input) \n",
        "        embedded = self.dropout(embedded)\n",
        "        # embedded.shape: [1, batch_size, emb_dim]\n",
        "        \n",
        "        \n",
        "        ## 2-1.현재 timestep decoder token과 source token들간의 attention score계산 ## \n",
        "        a = self.attention(hidden, encoder_outputs)\n",
        "        # a.shape: [batch_size, src_len]\n",
        "        a = a.unsqueeze(1)\n",
        "        # a.shape: [batch_size, 1, src_len]\n",
        "        \n",
        "        # encoder_outputs.shape: [scr_len, batch_size, hid_dim*2]\n",
        "        encoder_outputs = encoder_outputs.permute(1,0,2)\n",
        "        # encoder_outputs.shape: [batch_size, scr_len, hid_dim*2]\n",
        "        \n",
        "        ## 2-2. 각 encoder hidden states에 attention score 적용 ## \n",
        "        weighted = torch.bmm(a, encoder_outputs) # batch matrix-matrix product\n",
        "        # weighted.shape: [batch_size, 1, enc_hid_dim*2]\n",
        "        weighted = weighted.permute(1,0,2) \n",
        "        # weighted.shape: [1, batch_size, enc_hid_dim*2]\n",
        "        \n",
        "        \n",
        "        ## 3. rnn layer에 넣고 모든 block에 대해 계산 ##\n",
        "        rnn_input = torch.cat((embedded, weighted), dim=2)\n",
        "        output, hidden = self.rnn(rnn_input, hidden.unsqueeze(0))\n",
        "        # output: 현재 timestep의 hidden state\n",
        "        # hidden: 현재 timestep의 hidden state\n",
        "        # output.shape: [1, batch_size, dec_hid_dim]\n",
        "        # hidden.shape: [1, batch_size, dec_hid_dim]\n",
        "        \n",
        "        assert (output==hidden).all() # 둘이 같은지 확인\n",
        "        \n",
        "        \n",
        "        ## 4. 원하는 output dim으로 변형 후 linear에 넣어 vocab 내 각 단어에 대한 예측값 뽑기 ##\n",
        "        embedded = embedded.squeeze(0) \n",
        "        output = output.squeeze(0)\n",
        "        weighted = weighted.squeeze(0)\n",
        "        \n",
        "        prediction = self.fc(torch.cat((output, weighted, embedded), dim=1))\n",
        "        # prediction.shape = [batch_size, output_dim]\n",
        "        \n",
        "        return prediction, hidden.squeeze(0) \n",
        "                            # 매 timestep마다 새로운 hidden을 넘겨줌"
      ],
      "id": "0f455e5f",
      "execution_count": null,
      "outputs": []
    },
    {
      "cell_type": "markdown",
      "metadata": {
        "id": "a300bc5f"
      },
      "source": [
        "## Seq2Seq"
      ],
      "id": "a300bc5f"
    },
    {
      "cell_type": "code",
      "metadata": {
        "id": "2c153266"
      },
      "source": [
        "class Seq2Seq(nn.Module):\n",
        "    def __init__(self, encoder, decoder, device):\n",
        "        super().__init__()\n",
        "        \n",
        "        self.encoder = encoder\n",
        "        self.decoder = decoder\n",
        "        self.device = device\n",
        "        \n",
        "    def forward(self, src, trg, teacher_forcing_ratio = 0.5):\n",
        "        \n",
        "        batch_size = src.shape[1]\n",
        "        trg_len = trg.shape[0]\n",
        "        trg_vocab_size = self.decoder.output_dim\n",
        "        \n",
        "        ## 0. vocab_size만큼의 softmax 결과를 담을 수 있는 zero tensor 만들기 ##\n",
        "        outputs = torch.zeros(trg_len, batch_size, trg_vocab_size).to(self.device)\n",
        "        \n",
        "        \n",
        "        ## 1. encoder에 넣기 ##\n",
        "        encoder_outputs, hidden = self.encoder(src)\n",
        "        \n",
        "    \n",
        "        ## 2. decoder에 넣고 결과 뽑기 ##\n",
        "        input = trg[0,:] # decoder의 첫 번째 token인 <sos>를 처음 입력값으로\n",
        "        for t in range(1, trg_len): # 각 decoder의 token에 대해\n",
        "            \n",
        "            ## decoder에 넣고 계산\n",
        "            output, hidden = self.decoder(input, hidden, encoder_outputs)\n",
        "            \n",
        "            ## 만들어 놓은 빈 tensor에 결과값 저장\n",
        "            outputs[t] = output\n",
        "            \n",
        "            ## teacher force를 쓸지 결정\n",
        "            teacher_force = random.random() < teacher_forcing_ratio\n",
        "            \n",
        "            ## prediction 중 가장 예측값이 높은 단어의 index 뽑기\n",
        "            top1 = output.argmax(1) \n",
        "            \n",
        "            input = trg[t] if teacher_force else top1 \n",
        "\n",
        "        return outputs"
      ],
      "id": "2c153266",
      "execution_count": null,
      "outputs": []
    },
    {
      "cell_type": "markdown",
      "metadata": {
        "id": "426efd69"
      },
      "source": [
        "# 학습"
      ],
      "id": "426efd69"
    },
    {
      "cell_type": "code",
      "metadata": {
        "id": "sp8WQFHl-YXj"
      },
      "source": [
        "import gc\n",
        "\n",
        "gc.collect()\n",
        "\n",
        "torch.cuda.empty_cache()"
      ],
      "id": "sp8WQFHl-YXj",
      "execution_count": null,
      "outputs": []
    },
    {
      "cell_type": "code",
      "metadata": {
        "id": "6008f320"
      },
      "source": [
        "INPUT_DIM = len(SRC.vocab)\n",
        "OUTPUT_DIM = len(TRG.vocab)\n",
        "ENC_EMB_DIM = 256\n",
        "DEC_EMB_DIM = 256\n",
        "ENC_HID_DIM = 512\n",
        "DEC_HID_DIM = 512\n",
        "ENC_DROPOUT = 0.5\n",
        "DEC_DROPOUT = 0.5\n",
        "\n",
        "attn = Attention(ENC_HID_DIM, DEC_HID_DIM)\n",
        "enc = Encoder(INPUT_DIM, ENC_EMB_DIM, ENC_HID_DIM, DEC_HID_DIM, ENC_DROPOUT)\n",
        "dec = Decoder(OUTPUT_DIM, DEC_EMB_DIM, ENC_HID_DIM, DEC_HID_DIM, DEC_DROPOUT, attn)\n",
        "\n",
        "model = Seq2Seq(enc, dec, device).to(device)"
      ],
      "id": "6008f320",
      "execution_count": null,
      "outputs": []
    },
    {
      "cell_type": "code",
      "metadata": {
        "scrolled": true,
        "colab": {
          "base_uri": "https://localhost:8080/"
        },
        "id": "d90d90ac",
        "outputId": "fbfb6683-3d65-4ea2-c8cb-03136278fa04"
      },
      "source": [
        "def init_weights(m):\n",
        "    for name, param in m.named_parameters():\n",
        "        if 'weight' in name:\n",
        "            nn.init.normal_(param.data, mean=0, std=0.01)\n",
        "        else:\n",
        "            nn.init.constant_(param.data, 0)\n",
        "\n",
        "model.apply(init_weights)"
      ],
      "id": "d90d90ac",
      "execution_count": null,
      "outputs": [
        {
          "output_type": "execute_result",
          "data": {
            "text/plain": [
              "Seq2Seq(\n",
              "  (encoder): Encoder(\n",
              "    (embedding): Embedding(34012, 256)\n",
              "    (rnn): RNN(256, 512, bidirectional=True)\n",
              "    (fc): Linear(in_features=1024, out_features=512, bias=True)\n",
              "    (dropout): Dropout(p=0.5, inplace=False)\n",
              "  )\n",
              "  (decoder): Decoder(\n",
              "    (attention): Attention(\n",
              "      (attn): Linear(in_features=1536, out_features=512, bias=True)\n",
              "      (v): Linear(in_features=512, out_features=1, bias=False)\n",
              "    )\n",
              "    (embedding): Embedding(19819, 256)\n",
              "    (rnn): RNN(1280, 512)\n",
              "    (fc): Linear(in_features=1792, out_features=19819, bias=True)\n",
              "    (dropout): Dropout(p=0.5, inplace=False)\n",
              "  )\n",
              ")"
            ]
          },
          "metadata": {
            "tags": []
          },
          "execution_count": 339
        }
      ]
    },
    {
      "cell_type": "code",
      "metadata": {
        "colab": {
          "base_uri": "https://localhost:8080/"
        },
        "id": "a4e5b606",
        "outputId": "86704cd8-9a58-4a94-ad8c-dae7210b74e4"
      },
      "source": [
        "def count_parameters(model):\n",
        "    return sum(p.numel() for p in model.parameters() if p.requires_grad)\n",
        "\n",
        "print(f'The model has {count_parameters(model):,} trainable parameters')"
      ],
      "id": "a4e5b606",
      "execution_count": null,
      "outputs": [
        {
          "output_type": "stream",
          "text": [
            "The model has 52,335,467 trainable parameters\n"
          ],
          "name": "stdout"
        }
      ]
    },
    {
      "cell_type": "code",
      "metadata": {
        "id": "53b07627"
      },
      "source": [
        "optimizer = optim.Adam(model.parameters())\n",
        "\n",
        "TRG_PAD_IDX = TRG.vocab.stoi[TRG.pad_token]\n",
        "criterion = nn.CrossEntropyLoss(ignore_index = TRG_PAD_IDX)"
      ],
      "id": "53b07627",
      "execution_count": null,
      "outputs": []
    },
    {
      "cell_type": "code",
      "metadata": {
        "id": "a76a71fa"
      },
      "source": [
        "def train(model, iterator, optimizer, criterion, clip):\n",
        "    \n",
        "    model.train()\n",
        "    \n",
        "    epoch_loss = 0\n",
        "    \n",
        "    for i, batch in enumerate(iterator):\n",
        "        \n",
        "        src = batch.SRC\n",
        "        trg = batch.TRG\n",
        "        \n",
        "        optimizer.zero_grad()\n",
        "        \n",
        "        output = model(src, trg)\n",
        "        output_dim = output.shape[-1]\n",
        "        output = output[1:].view(-1, output_dim)\n",
        "        \n",
        "        trg = trg[1:].view(-1)\n",
        "        \n",
        "        loss = criterion(output, trg)\n",
        "        loss.backward()\n",
        "        \n",
        "        torch.nn.utils.clip_grad_norm_(model.parameters(), clip)\n",
        "        optimizer.step()\n",
        "        \n",
        "        epoch_loss += loss.item()\n",
        "        \n",
        "    return epoch_loss / len(iterator)"
      ],
      "id": "a76a71fa",
      "execution_count": null,
      "outputs": []
    },
    {
      "cell_type": "code",
      "metadata": {
        "id": "b33fc2b6"
      },
      "source": [
        "def evaluate(model, iterator, criterion):\n",
        "    \n",
        "    model.eval()\n",
        "    \n",
        "    epoch_loss = 0\n",
        "    \n",
        "    with torch.no_grad():\n",
        "    \n",
        "        for i, batch in enumerate(iterator):\n",
        "\n",
        "            src = batch.SRC\n",
        "            trg = batch.TRG\n",
        "            \n",
        "            output = model(src, trg, 0)\n",
        "            output_dim = output.shape[-1]\n",
        "            \n",
        "            output = output[1:].view(-1, output_dim)\n",
        "            trg = trg[1:].view(-1)\n",
        "            \n",
        "            loss = criterion(output, trg)\n",
        "\n",
        "            epoch_loss += loss.item()\n",
        "        \n",
        "    return epoch_loss / len(iterator)"
      ],
      "id": "b33fc2b6",
      "execution_count": null,
      "outputs": []
    },
    {
      "cell_type": "code",
      "metadata": {
        "id": "7a76cddb"
      },
      "source": [
        "def epoch_time(start_time, end_time):\n",
        "    elapsed_time = end_time - start_time\n",
        "    elapsed_mins = int(elapsed_time / 60)\n",
        "    elapsed_secs = int(elapsed_time - (elapsed_mins * 60))\n",
        "    return elapsed_mins, elapsed_secs"
      ],
      "id": "7a76cddb",
      "execution_count": null,
      "outputs": []
    },
    {
      "cell_type": "code",
      "metadata": {
        "colab": {
          "base_uri": "https://localhost:8080/"
        },
        "id": "312a0a91",
        "outputId": "b0c2dc87-a97a-490b-897e-5dea89cc3a17"
      },
      "source": [
        "N_EPOCHS = 5\n",
        "CLIP = 1\n",
        "\n",
        "best_valid_loss = float('inf')\n",
        "\n",
        "for epoch in tqdm(range(N_EPOCHS)):\n",
        "    \n",
        "    start_time = time.time()\n",
        "    \n",
        "    train_loss = train(model, train_iterator, optimizer, criterion, CLIP)\n",
        "    valid_loss = evaluate(model, valid_iterator, criterion)\n",
        "    \n",
        "    end_time = time.time()\n",
        "    \n",
        "    epoch_mins, epoch_secs = epoch_time(start_time, end_time)\n",
        "    \n",
        "    if valid_loss < best_valid_loss:\n",
        "        best_valid_loss = valid_loss\n",
        "        torch.save(model.state_dict(), 'tut3-model.pt')\n",
        "    \n",
        "    print(f'Epoch: {epoch+1:02} | Time: {epoch_mins}m {epoch_secs}s')\n",
        "    print(f'\\tTrain Loss: {train_loss:.3f} | Train PPL: {math.exp(train_loss):7.3f}')\n",
        "    print(f'\\t Val. Loss: {valid_loss:.3f} |  Val. PPL: {math.exp(valid_loss):7.3f}')\n",
        "\n",
        "torch.sve"
      ],
      "id": "312a0a91",
      "execution_count": null,
      "outputs": [
        {
          "output_type": "stream",
          "text": [
            "\n",
            "\n",
            "\n",
            "\n",
            "\n",
            "\n",
            "\n",
            "\n",
            "\n",
            "\n",
            "\n",
            "\n",
            "\n",
            "\n",
            "  0%|          | 0/5 [00:00<?, ?it/s]\u001b[A\u001b[A\u001b[A\u001b[A\u001b[A\u001b[A\u001b[A\u001b[A\u001b[A\u001b[A\u001b[A\u001b[A\u001b[A\u001b[A\n",
            "\n",
            "\n",
            "\n",
            "\n",
            "\n",
            "\n",
            "\n",
            "\n",
            "\n",
            "\n",
            "\n",
            "\n",
            "\n",
            " 20%|██        | 1/5 [17:59<1:11:58, 1079.73s/it]\u001b[A\u001b[A\u001b[A\u001b[A\u001b[A\u001b[A\u001b[A\u001b[A\u001b[A\u001b[A\u001b[A\u001b[A\u001b[A\u001b[A"
          ],
          "name": "stderr"
        },
        {
          "output_type": "stream",
          "text": [
            "Epoch: 01 | Time: 17m 59s\n",
            "\tTrain Loss: 5.471 | Train PPL: 237.737\n",
            "\t Val. Loss: 5.584 |  Val. PPL: 266.059\n"
          ],
          "name": "stdout"
        },
        {
          "output_type": "stream",
          "text": [
            "\n",
            "\n",
            "\n",
            "\n",
            "\n",
            "\n",
            "\n",
            "\n",
            "\n",
            "\n",
            "\n",
            "\n",
            "\n",
            "\n",
            " 40%|████      | 2/5 [36:01<54:00, 1080.21s/it]  \u001b[A\u001b[A\u001b[A\u001b[A\u001b[A\u001b[A\u001b[A\u001b[A\u001b[A\u001b[A\u001b[A\u001b[A\u001b[A\u001b[A"
          ],
          "name": "stderr"
        },
        {
          "output_type": "stream",
          "text": [
            "Epoch: 02 | Time: 18m 0s\n",
            "\tTrain Loss: 4.765 | Train PPL: 117.340\n",
            "\t Val. Loss: 5.220 |  Val. PPL: 184.850\n"
          ],
          "name": "stdout"
        },
        {
          "output_type": "stream",
          "text": [
            "\n",
            "\n",
            "\n",
            "\n",
            "\n",
            "\n",
            "\n",
            "\n",
            "\n",
            "\n",
            "\n",
            "\n",
            "\n",
            "\n",
            " 60%|██████    | 3/5 [54:04<36:02, 1081.04s/it]\u001b[A\u001b[A\u001b[A\u001b[A\u001b[A\u001b[A\u001b[A\u001b[A\u001b[A\u001b[A\u001b[A\u001b[A\u001b[A\u001b[A"
          ],
          "name": "stderr"
        },
        {
          "output_type": "stream",
          "text": [
            "Epoch: 03 | Time: 18m 2s\n",
            "\tTrain Loss: 4.344 | Train PPL:  77.023\n",
            "\t Val. Loss: 4.949 |  Val. PPL: 141.096\n"
          ],
          "name": "stdout"
        },
        {
          "output_type": "stream",
          "text": [
            "\n",
            "\n",
            "\n",
            "\n",
            "\n",
            "\n",
            "\n",
            "\n",
            "\n",
            "\n",
            "\n",
            "\n",
            "\n",
            "\n",
            " 80%|████████  | 4/5 [1:12:06<18:01, 1081.59s/it]\u001b[A\u001b[A\u001b[A\u001b[A\u001b[A\u001b[A\u001b[A\u001b[A\u001b[A\u001b[A\u001b[A\u001b[A\u001b[A\u001b[A"
          ],
          "name": "stderr"
        },
        {
          "output_type": "stream",
          "text": [
            "Epoch: 04 | Time: 18m 2s\n",
            "\tTrain Loss: 4.025 | Train PPL:  55.997\n",
            "\t Val. Loss: 4.758 |  Val. PPL: 116.527\n"
          ],
          "name": "stdout"
        },
        {
          "output_type": "stream",
          "text": [
            "\n",
            "\n",
            "\n",
            "\n",
            "\n",
            "\n",
            "\n",
            "\n",
            "\n",
            "\n",
            "\n",
            "\n",
            "\n",
            "\n",
            "100%|██████████| 5/5 [1:30:09<00:00, 1081.96s/it]"
          ],
          "name": "stderr"
        },
        {
          "output_type": "stream",
          "text": [
            "Epoch: 05 | Time: 18m 2s\n",
            "\tTrain Loss: 3.792 | Train PPL:  44.334\n",
            "\t Val. Loss: 4.710 |  Val. PPL: 111.071\n"
          ],
          "name": "stdout"
        },
        {
          "output_type": "stream",
          "text": [
            "\n"
          ],
          "name": "stderr"
        }
      ]
    },
    {
      "cell_type": "code",
      "metadata": {
        "id": "2e499072"
      },
      "source": [
        ""
      ],
      "id": "2e499072",
      "execution_count": null,
      "outputs": []
    }
  ]
}